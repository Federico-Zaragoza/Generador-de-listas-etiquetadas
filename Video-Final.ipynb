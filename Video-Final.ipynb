{
 "cells": [
  {
   "cell_type": "markdown",
   "metadata": {},
   "source": [
    "https://iteso01-my.sharepoint.com/:v:/g/personal/diego_mercadoc_iteso_mx/Ef-GeI_HH4ZMojy9nsm1tG4BJmuMuEPYJIW1Vn7HdMwJ_Q?e=YfftFd"
   ]
  }
 ],
 "metadata": {
  "language_info": {
   "name": "python"
  }
 },
 "nbformat": 4,
 "nbformat_minor": 2
}
