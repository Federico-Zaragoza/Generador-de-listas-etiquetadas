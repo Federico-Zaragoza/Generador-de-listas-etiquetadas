{
  "cells": [
    {
      "cell_type": "markdown",
      "metadata": {},
      "source": [
        "# Portada\n",
        "\n",
        "**Generador de Listas Etiquetadas**\n",
        "\n",
        "**Integrantes:** Diego Mercado Coello, Luis Eduardo Gonzalez Gloria, Federico Humberto Zaragoza Manuel\n",
        "\n",
        "\n",
        "**Materia:** Desarrollo de Aplicaciones Web / ITESO\n",
        "\n",
        "**Fecha:** 2025-05-10"
      ]
    },
    {
      "cell_type": "markdown",
      "metadata": {},
      "source": [
        "## Enlace a Render y Credenciales de Prueba\n",
        "\n",
        "La aplicación está desplegada en Render:\n",
        "[https://generador-de-listas-etiquetadas.onrender.com](https://generador-de-listas-etiquetadas.onrender.com)\n",
        "\n",
        "**Credenciales de prueba:**\n",
        "*   Admin: `admin@example.com` / `admin123`\n",
        "*   Usuario común: `user@example.com` / `user123`"
      ]
    },
    {
      "cell_type": "markdown",
      "metadata": {},
      "source": [
        "## Descripción Breve del Proyecto\n",
        "\n",
        "El Generador de Listas Etiquetadas es una aplicación web para crear, organizar y compartir listas de ítems categorizados mediante etiquetas y vistas personalizadas. Cada usuario puede gestionar sus propias listas e ítems, asignarles campos especiales (fecha, prioridad, notas), usar filtros por etiquetas, marcar favoritos o archivar, y compartir listas con otros. Los administradores, además, tienen un panel para gestionar usuarios y consultar estadísticas de uso."
      ]
    },
    {
      "cell_type": "markdown",
      "metadata": {},
      "source": [
        "## Flujo de la Aplicación\n",
        "\n",
        "### Usuario Común\n",
        "\n",
        "1.  Registro – Login (JWT almacenado en LocalStorage)\n",
        "2.  Creación de nuevas listas (título, descripción)\n",
        "3.  Gestión de ítems dentro de cada lista (título, descripción, fecha, etiquetas, campos especiales, estado)\n",
        "4.  Filtrado y búsqueda por etiquetas e ítems\n",
        "5.  Definición de vistas personalizadas (conjuntos de filtros y ordenamientos)\n",
        "6.  Aplicación de vistas personalizadas para visualizar ítems.\n",
        "7.  Compartir listas con otros usuarios (asignando permisos de 'ver' o 'editar')\n",
        "8.  Marcar ítems/listas como favoritos o archivadas\n",
        "9.  Visualización de listas recientes, favoritas y archivadas en el dashboard.\n",
        "10. Edición de perfil (nombre, email, contraseña)."
      ]
    },
    {
      "cell_type": "markdown",
      "metadata": {},
      "source": [
        "### Usuario Administrador\n",
        "\n",
        "1.  Login a panel de administración\n",
        "2.  Listado y gestión de usuarios (crear, editar, eliminar, cambiar rol)\n",
        "3.  Consulta de estadísticas globales (número de usuarios, listas creadas, actividad reciente)\n",
        "4.  Acceso a todas las funcionalidades de un usuario común para sus propias listas/ítems."
      ]
    },
    {
      "cell_type": "markdown",
      "metadata": {},
      "source": [
        "## REST API Documentada\n",
        "\n",
        "| Método | Ruta                      | Descripción                          | Acceso        | Parámetros (Body/Params/Query)                                                                | Ejemplo Respuesta Exitosa                                                                 | Errores Comunes                               |\n",
        "|--------|---------------------------|--------------------------------------|---------------|-----------------------------------------------------------------------------------------------|-------------------------------------------------------------------------------------------|-----------------------------------------------|\n",
        "| **Autenticación (`/api/auth`)** |                           |                                      |               |                                                                                               |                                                                                           |                                               |\n",
        "| POST   | /register                 | Registrar nuevo usuario              | Público       | Body: { `username`, `email`, `password`, `fullName`, `birthDate`, `role` (opc) }             | `{ success:true, user:{_id, name,...}, token }`                                              | 400 (Bad Request, Email/User ya existe), 500  |\n",
        "| POST   | /login                    | Iniciar sesión                       | Público       | Body: { `email`, `password` }                                                                 | `{ success:true, user:{_id, name,...}, token }`                                              | 401 (Credenciales inválidas)                  |\n",
        "| GET    | /profile                  | Obtener perfil de usuario actual    | Privado       | -                                                                                             | `{ success:true, user:{...} }`                                                            | 401                                           |\n",
        "| PUT    | /profile                  | Actualizar perfil de usuario actual | Privado       | Body: { `nombre`, `email`, `fecha_nacimiento` }                                                | `{ success:true, user:{...} }`                                                            | 400 (Email en uso), 401                       |\n",
        "| PUT    | /updatepassword           | Cambiar contraseña                  | Privado       | Body: { `currentPassword`, `newPassword` }                                                     | `{ success:true, message }`                                                               | 401 (Contraseña incorrecta), 400                |\n",
        "| **Usuarios (`/api/users`)**   |                           |                                      |               |                                                                                               |                                                                                           |                                               |\n",
        "| GET    | /                         | Listar usuarios (paginado)           | Privado/Admin | Query: `page`, `limit`                                                                        | `{ success:true, count, pagination:{...}, data:[{_id, name,...}] }`                          | 401, 403                                      |\n",
        "| GET    | /stats                    | Estadísticas de usuarios             | Privado/Admin | -                                                                                             | `{ success:true, stats:{totalUsers, adminCount, newTodayCount} }`                         | 401, 403                                      |\n",
        "| GET    | /:id                      | Obtener usuario por ID              | Privado/Admin | Params: `id`                                                                                  | `{ success:true, user:{_id, name,...} }`                                                   | 401, 403, 404 (No existe)                     |\n",
        "| PUT    | /:id                      | Actualizar un usuario (admin)        | Privado/Admin | Params: `id`, Body: { `nombre`, `fecha_nacimiento` }                                          | `{ success:true, user:{...} }`                                                            | 400, 401, 403, 404                            |\n",
        "| PUT    | /:id/role                 | Cambiar rol de usuario               | Privado/Admin | Params: `id`, Body: { `role` }                                                                | `{ success:true, user:{...} }`                                                            | 400 (Rol inválido), 401, 403, 404             |\n",
        "| DELETE | /:id                      | Eliminar usuario                     | Privado/Admin | Params: `id`                                                                                  | `{ success:true, message }`                                                               | 401, 403, 404                                 |\n",
        "| PUT    | /me/lists/favorite/:listId| Toggle lista favorita                | Privado       | Params: `listId`                                                                              | `{ success:true, message, isFavorite, user:{...} }`                                       | 401, 403, 404                                 |\n",
        "| PUT    | /me/lists/archive/:listId | Toggle lista archivada               | Privado       | Params: `listId`                                                                              | `{ success:true, message, isArchived, user:{...} }`                                       | 401, 403, 404                                 |\n",
        "| **Listas (`/api/listas`)**    |                           |                                      |               |                                                                                               |                                                                                           |                                               |\n",
        "| GET    | /                         | Listar listas del usuario (paginado)  | Privado       | Query: `page`, `limit`                                                                        | `{ success:true, count, pagination:{...}, data:[{_id, title,...}] }`                       | 401                                           |\n",
        "| POST   | /                         | Crear nueva lista                     | Privado       | Body: { `title`, `description`, `camposEspaciales` }                                           | `{ success:true, message, lista:{...} }`                                                   | 400, 401                                      |\n",
        "| GET    | /:id                      | Obtener lista específica y sus ítems | Privado       | Params: `id`                                                                                  | `{ success:true, lista:{...}, items:[...] }`                                              | 401, 403, 404                                 |\n",
        "| PUT    | /:id                      | Actualizar lista                      | Privado       | Params: `id`, Body: { `title`, `description`, `camposEspaciales` }                              | `{ success:true, message, lista:{...} }`                                                   | 400, 401, 403, 404                            |\n",
        "| DELETE | /:id                      | Eliminar lista                        | Privado       | Params: `id`                                                                                  | `{ success:true, message }`                                                               | 401, 403, 404                                 |\n",
        "| POST   | /:listId/share            | Compartir lista con colaborador       | Privado       | Params: `listId`, Body: { `emailOrUsername`, `permiso` }                                        | `{ success:true, lista:{...} }`                                                            | 400, 401, 403, 404                            |\n",
        "| DELETE | /:listId/share/:collabUserId | Quitar colaborador                  | Privado       | Params: `listId`, `collaboratorUserId`                                                        | `{ success:true, lista:{...} }`                                                            | 401, 403, 404                                 |\n",
        "| **Ítems (`/api/items`)**      |                           |                                      |               |                                                                                               |                                                                                           |                                               |\n",
        "| GET    | /filtrar                  | Filtrar ítems (estado, etiq, orden)  | Privado       | Query: `listId`, `estado`, `etiquetas` (CSV), `etiqueta_logica`, `sortField`, `sortDir`, `page`, `limit` | `{ success:true, count, pagination:{...}, data:[{_id, title,...}] }`                       | 400, 401, 403                                 |\n",
        "| POST   | /                         | Crear nuevo Ítem                      | Privado       | Body: { `listId`, `title`, `description`, `estado`, `etiquetas` (array IDs), `valoresCamposEspaciales` } | `{ success:true, message, item:{...} }`                                                     | 400, 401, 403                                 |\n",
        "| GET    | /:id                      | Obtener Ítem específico              | Privado       | Params: `id`                                                                                  | `{ success:true, item:{...} }`                                                            | 401, 403, 404                                 |\n",
        "| PUT    | /:id                      | Actualizar Ítem                       | Privado       | Params: `id`, Body: { (campos a actualizar) }                                                 | `{ success:true, message, item:{...} }`                                                    | 400, 401, 403, 404                            |\n",
        "| DELETE | /:id                      | Eliminar Ítem                         | Privado       | Params: `id`                                                                                  | `{ success:true, message }`                                                               | 401, 403, 404                                 |\n",
        "| **Etiquetas (`/api/etiquetas`)|                           |                                      |               |                                                                                               |                                                                                           |                                               |\n",
        "| GET    | /                         | Listar etiquetas (paginado)           | Privado       | Query: `page`, `limit`                                                                        | `{ success:true, count, pagination:{...}, data:[...] }`                                     | 401                                           |\n",
        "| POST   | /                         | Crear nueva etiqueta                  | Privado       | Body: { `nombre`, `color` }                                                                   | `{ success:true, message, etiqueta:{...} }`                                               | 400 (Duplicado), 401                          |\n",
        "| PUT    | /:id                      | Actualizar etiqueta                   | Privado       | Params: `id`, Body: { `nombre`, `color` }                                                      | `{ success:true, message, etiqueta:{...} }`                                               | 400, 401, 403, 404                            |\n",
        "| DELETE | /:id                      | Eliminar etiqueta                     | Privado       | Params: `id`                                                                                  | `{ success:true, message }`                                                               | 401, 403, 404                                 |\n",
        "| GET    | /estadisticas             | Estadísticas de uso de etiquetas      | Privado       | -                                                                                             | `{ success:true, estadisticas:[...] }`                                                    | 401                                           |\n",
        "| **Vistas Personalizadas (`/api/vistas`)|                    |                                      |               |                                                                                               |                                                                                           |                                               |\n",
        "| GET    | /                         | Listar vistas del usuario (paginado)  | Privado       | Query: `page`, `limit`                                                                        | `{ success:true, count, pagination:{...}, data:[...] }`                                     | 401                                           |\n",
        "| POST   | /                         | Crear nueva vista                     | Privado       | Body: { `nombre`, `filtros`, `ordenamientos` }                                                  | `{ success:true, message, vista:{...} }`                                                   | 400 (Duplicado), 401                          |\n",
        "| GET    | /:id                      | Obtener vista específica              | Privado       | Params: `id`                                                                                  | `{ success:true, vista:{...} }`                                                            | 401, 403, 404 (No existe)                   |\n",
        "| PUT    | /:id                      | Actualizar vista                      | Privado       | Params: `id`, Body: { `nombre`, `filtros`, `ordenamientos` }                                    | `{ success:true, message, vista:{...} }`                                                   | 400 (Datos inválidos), 401, 403, 404          |\n",
        "| DELETE | /:id                      | Eliminar vista                        | Privado       | Params: `id`                                                                                  | `{ success:true, message }`                                                               | 401, 403, 404 (No existe)                   |\n"
      ]
    },
    {
      "cell_type": "markdown",
      "metadata": {},
      "source": [
        "## Screenshots de Pantallas Importantes\n",
        "\n",
        "A continuación, se muestran algunas pantallas clave de la aplicación:\n",
        "\n",
        "### 1. Dashboard Principal\n",
        "![Dashboard Principal](Screenshots/Reporte-final/1.png)\n",
        "*Descripción: Vista principal donde el usuario gestiona sus listas.*\n",
        "\n",
        "### 2. Detalle de Lista con Ítems y Campos Especiales\n",
        "![Detalle de Lista](Screenshots/Reporte-final/2.png)\n",
        "*Descripción: Visualización de los ítems de una lista, incluyendo etiquetas y valores de campos especiales definidos.*\n",
        "\n",
        "### 3. Panel de Administración - Gestión de Usuarios\n",
        "![Panel de Administración](Screenshots/Reporte-final/3.png)\n",
        "*Descripción: Interfaz para que el administrador gestione los usuarios del sistema.*\n",
        "\n",
        "### 4. Creación/Edición de Vistas Personalizadas\n",
        "![Vistas Personalizadas](Screenshots/Reporte-final/4.png)\n",
        "*Descripción: Formulario para definir filtros y ordenamientos de una vista personalizada.*\n",
        "\n",
        "### 5. Perfil\n",
        "![Modal Edición Ítem](Screenshots/Reporte-final/5.png)\n",
        "*Descripción: Editar Perfil y datos*"
      ]
    },
    {
      "cell_type": "markdown",
      "metadata": {},
      "source": [
        "## Distribución de Actividades\n",
        "\n",
        "**Diego (45%):**\n",
        "*   **Front-end:** Desarrollo de componentes y lógica para la gestión de Ítems (CRUD completo, modal de edición), Etiquetas (gestor, selección en modal de ítem), Vistas Personalizadas (creación, listado, eliminación, aplicación en detalle de lista) y Campos Especiales (definición en lista, asignación y visualización en ítems). Integración de estas funcionalidades con la API.\n",
        "*   **Back-end:** Diseño e implementación de los modelos Mongoose para Ítems, Etiquetas, Vistas Personalizadas y la estructura de Campos Especiales en Listas/Ítems. Desarrollo de las rutas API REST y controladores para el CRUD completo de estas entidades, incluyendo la lógica de filtrado avanzado para ítems (estado, etiquetas con AND/OR, ordenamiento) y la lógica de persistencia para las relaciones (ítem-etiquetas).\n",
        "\n",
        "**Luis (30%):**\n",
        "*   **Front-end:** Desarrollo de los componentes principales del Dashboard (listado de listas, creación, edición básica, eliminación), la interfaz para marcar/desmarcar Favoritos y Archivados, y la lógica para compartir listas (modal de invitación, visualización de colaboradores). Conexión de estas funcionalidades con la API.\n",
        "*   **Back-end:** Diseño e implementación del modelo Mongoose para Listas. Desarrollo de las rutas API REST y controladores para el CRUD de Listas, y los endpoints específicos para la gestión de Favoritos/Archivados (actualizando el modelo User) y el sistema de Compartir (invitar, quitar colaborador, actualizar array de colaboradores en Lista).\n",
        "\n",
        "**Federico (25%):**\n",
        "*   **Front-end:** Desarrollo de las páginas de Registro y Login, incluyendo la lógica de validación de formularios y la interacción con la API para autenticación. Implementación de la gestión de sesión (token JWT en localStorage) y la redirección basada en roles. Creación del Panel de Administración (UI para listar, editar rol, eliminar usuarios) y la página de Perfil de Usuario (visualización, cambio de contraseña). Implementación de la lógica de visibilidad condicional de elementos para administradores.\n",
        "*   **Back-end:** Diseño e implementación del modelo Mongoose para Usuarios. Desarrollo de las rutas API REST y controladores para la autenticación (registro, login), gestión de perfiles (obtener, actualizar perfil/contraseña) y las operaciones de administración de usuarios (CRUD completo, cambio de rol). Implementación de la autenticación JWT (generación y verificación de tokens) y middlewares de protección de rutas y autorización por roles. Configuración inicial del servidor Express y conexión a MongoDB. Desarrollo del script Seeder."
      ]
    },
    {
      "cell_type": "markdown",
      "metadata": {},
      "source": [
        "## Lo que SÍ Funcionó y lo que Quedó Pendiente\n",
        "\n",
        "**Sí Funcionó:**\n",
        "\n",
        "*   Autenticación completa: Registro, login (con token JWT), y logout.\n",
        "*   Gestión de Perfil: Visualización de datos y cambio de contraseña funcional.\n",
        "*   CRUD completo de Listas: Crear, ver, editar (título, descripción, campos especiales), eliminar. Incluye marcar/desmarcar como Favorito/Archivado.\n",
        "*   CRUD completo de Ítems: Crear, ver, editar (título, descripción, estado, etiquetas, valores de campos especiales), eliminar.\n",
        "*   CRUD completo de Etiquetas: Crear, ver, eliminar desde su gestor.\n",
        "*   Campos Especiales: Definición a nivel de Lista y asignación/visualización de valores a nivel de Ítem.\n",
        "*   Vistas Personalizadas: Creación, listado, eliminación y aplicación funcional de vistas para filtrar y ordenar ítems.\n",
        "*   Compartir Listas: Funcionalidad MVP para invitar usuarios (por email/username) a colaborar en listas con permisos de 'ver' o 'editar', y quitarles el acceso. Los usuarios invitados pueden ver las listas compartidas.\n",
        "*   Panel de Administración: Visualización de usuarios, cambio de roles, eliminación de usuarios, edición básica de perfil de otros usuarios y visualización de estadísticas básicas.\n",
        "*   Paginado en todos los endpoints de listado del backend.\n",
        "*   Manejo de errores y validaciones robustas en el backend y feedback mejorado en el frontend.\n",
        "*   Despliegue estable y funcional en Render con MongoDB Atlas."
      ]
    },
    {
      "cell_type": "markdown",
      "metadata": {},
      "source": [
        "**Pendiente:**\n",
        "\n",
        "*   **Drag & Drop Avanzado de Ítems**\n",
        "*   **Compartir Listas (UI Avanzada):** Mejorar la interfaz de compartir, quizás con sugerencias de usuarios, y mostrar claramente quién tiene acceso y con qué permiso fuera del modal.\n",
        "*   **Perfil de Usuario Completo:** subida de foto de perfil."
      ]
    },
    {
      "cell_type": "markdown",
      "metadata": {},
      "source": [
        "## Temas Legales / UX\n",
        "\n",
        "### Banner de Cookies\n",
        "Se recomienda un banner de cookies. Aunque el uso principal de `localStorage` es para el token de autenticación (esencial para el funcionamiento), si en el futuro se añadieran funcionalidades como recordar preferencias de UI, analíticas de terceros o trackers, el consentimiento del usuario sería imperativo para cumplir con regulaciones como GDPR o CCPA. Implementarlo desde el inicio fomenta la transparencia.\n",
        "\n",
        "### Políticas de Privacidad\n",
        "Esencial. La aplicación recolecta y almacena datos personales como emails, nombres, y el contenido de las listas creadas por los usuarios. Una política de privacidad clara debe detallar qué información se recolecta, cómo se usa, cómo se almacena y protege, con quién se podría compartir (si aplica, ej. servicios de terceros), y los derechos del usuario sobre sus datos (acceso, rectificación, eliminación), cumpliendo con normativas vigentes como GDPR.\n",
        "\n",
        "### Términos y Condiciones\n",
        "Fundamentales para establecer las reglas de uso del servicio. Para \"Generador de Listas Etiquetadas\", algunos puntos clave a incluir serían:\n",
        "1.  **Uso Aceptable del Servicio:** Prohibir usos indebidos, spam, contenido ilegal, etc. Definir las responsabilidades del usuario al usar la plataforma.\n",
        "2.  **Propiedad del Contenido del Usuario:** Aclarar que el usuario retiene la propiedad de los datos que ingresa en sus listas, pero otorga a la plataforma los derechos necesarios para operar el servicio (ej. almacenar, mostrar).\n",
        "3.  **Limitación de Responsabilidad:** Establecer hasta qué punto la plataforma es responsable por pérdidas de datos, interrupciones del servicio, o daños indirectos. Común en servicios SaaS.\n",
        "4.  **Modificaciones al Servicio y Términos:** Reservar el derecho de modificar la aplicación o los términos, y cómo se notificarán dichos cambios a los usuarios.\n",
        "5.  **Terminación de Cuentas:** Especificar las condiciones bajo las cuales una cuenta puede ser suspendida o terminada (ej. por violación de los términos, inactividad prolongada, etc.) y el procedimiento para ello."
      ]
    },
    {
      "cell_type": "markdown",
      "metadata": {},
      "source": [
        "## Reflexión Individual\n",
        "\n",
        "### Diego\n",
        "Trabajar en los módulos de Ítems, Etiquetas, Vistas Personalizadas y Campos Especiales fue un reto interesante y muy completo. Aprender a modelar estas entidades en MongoDB, especialmente las relaciones muchos-a-muchos (como Ítem-Etiquetas mediante un array de ObjectIds) y la estructura flexible de `valoresCamposEspaciales`, fue muy formativo. Implementar el paginado eficiente con Mongoose (`skip`, `limit` y `countDocuments`) y la lógica de filtrado avanzado en el backend para las Vistas Personalizadas me ayudó a comprender mejor cómo construir APIs robustas. En el frontend, el desafío principal fue la sincronización del estado, la gestión de los modales para edición y la renderización dinámica de componentes basados en datos de la API. El flujo de definir campos, luego asignar valores y finalmente verlos aplicados, requirió una cuidadosa coordinación entre el frontend y el backend. Este proyecto reforzó lo visto en clase sobre APIs REST, diseño de modelos NoSQL y la importancia de la interactividad en el frontend, además de la necesidad de un debugging sistemático cuando las cosas no salen como se espera.\n",
        "\n",
        "### Luis\n",
        "Mi enfoque principal estuvo en el módulo de Listas y la interfaz del Dashboard, incluyendo la gestión de Favoritos/Archivados y la funcionalidad de Compartir. Fue mi primera experiencia integrando de forma tan directa el frontend con un backend RESTful, manejando el estado del usuario y sus listas. Diseñar la interfaz del Dashboard para que fuera intuitiva y permitiera una fácil visualización y acceso a las acciones de las listas fue un aprendizaje importante. La implementación de la lógica de Favoritos/Archivados, actualizando los arrays en el modelo `User`, y luego el sistema de Compartir, con la gestión de colaboradores y permisos, me enseñó mucho sobre cómo manejar relaciones y autorización en el backend. Conectar los botones del frontend para estas acciones, actualizar el `localStorage` y reflejar los cambios en la UI de forma reactiva fue un desafío que me ayudó a entender mejor la importancia de un buen manejo de estado en el cliente. Lo visto en clase sobre JWT y protección de rutas fue crucial para el backend de estas funcionalidades.\n",
        "\n",
        "### Federico\n",
        "Mi responsabilidad principal fue la autenticación de usuarios, la gestión de roles y el panel de administración. Implementar el registro, login con hasheo de contraseñas (bcrypt) y la generación/verificación de tokens JWT fue un gran aprendizaje, aplicando directamente los conceptos de seguridad vistos en clase. Diseñar el flujo de autorización con middlewares para proteger rutas y diferenciar entre roles 'user' y 'admin' fue un reto clave. Construir el panel de administración, con la capacidad de listar, editar y eliminar usuarios, y mostrar estadísticas básicas, me dio una buena perspectiva de las funcionalidades backend que soportan la gestión del sistema. El mayor desafío fue asegurar que la autenticación fuera segura y que el control de acceso por roles se aplicara consistentemente en todas las rutas protegidas. Esta experiencia consolidó mi entendimiento de los principios de las API REST y la importancia de un backend bien estructurado y seguro."
      ]
    }
  ],
  "metadata": {
    "kernelspec": {
      "display_name": "Python 3 (ipykernel)",
      "language": "python",
      "name": "python3"
    },
    "language_info": {
      "codemirror_mode": {
        "name": "ipython",
        "version": 3
      },
      "file_extension": ".py",
      "mimetype": "text/x-python",
      "name": "python",
      "nbconvert_exporter": "python",
      "pygments_lexer": "ipython3",
      "version": "3.11.7"
    }
  },
  "nbformat": 4,
  "nbformat_minor": 5
}
