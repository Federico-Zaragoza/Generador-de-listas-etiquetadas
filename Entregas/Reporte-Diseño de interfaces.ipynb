{
  "cells": [
    {
      "cell_type": "markdown",
      "id": "d2acdc1f",
      "metadata": {},
      "source": [
        "# Reporte del Prototipo de Interfaz de Usuario\n",
        "## Generador de Listas Etiquetadas\n",
        "\n",
        "**Fecha de entrega:** 21-04-2025\n",
        "\n",
        "**Equipo:**\n",
        "- Federico Humberto Zaragoza Manuel\n",
        "- Luis Eduardo González Gloria\n",
        "- Diego Mercado Coello"
      ]
    },
    {
      "cell_type": "markdown",
      "id": "af807c78",
      "metadata": {},
      "source": [
        "## Descripción del Proyecto\n",
        "\n",
        "El proyecto consiste en desarrollar una aplicación web, denominada \"Generador de listas etiquetadas\", que permite a los usuarios crear y gestionar listas de elementos (ítems). Cada ítem dentro de una lista puede ser etiquetado con una o varias etiquetas y tener un estado (activo, inactivo o pendiente). Los usuarios podrán filtrar sus listas para visualizar únicamente los ítems que cumplan con criterios específicos de etiquetas y estados. Adicionalmente, la aplicación permitirá agregar campos especiales personalizados por lista y generar vistas personalizadas con filtros y ordenamientos para una gestión más eficiente de la información.\n",
        "\n",
        "El objetivo principal es proporcionar **una** herramienta flexible y personalizable para la organización de información a través de listas, facilitando la categorización y el seguimiento de elementos mediante etiquetas y estados."
      ]
    },
    {
      "cell_type": "markdown",
      "id": "8f17ac6b",
      "metadata": {},
      "source": [
        "## Enlace al Video de Demostración\n",
        "\n",
        "[Enlace al video de demostración del prototipo de UI](https://iteso01-my.sharepoint.com/:v:/g/personal/diego_mercadoc_iteso_mx/EWNqv4zOQddGrbgOFtTM8XABk0hLhm3XJkCknI2lngkMwQ?e=KUKDCV)\n",
        "\n",
        "O directamente:\n",
        "https://iteso01-my.sharepoint.com/:v:/g/personal/diego_mercadoc_iteso_mx/EWNqv4zOQddGrbgOFtTM8XABk0hLhm3XJkCknI2lngkMwQ?e=KUKDCV"
      ]
    },
    {
      "cell_type": "markdown",
      "id": "669f93c5",
      "metadata": {},
      "source": [
        "## Descripción de las Pantallas Implementadas\n",
        "\n",
        "### 1. Página de Login (index.html)\n",
        "\n",
        "**Descripción:** Pantalla inicial donde los usuarios ingresan sus credenciales para acceder a la aplicación. Incluye formulario de inicio de sesión con validación de campos, opción para recordar usuario y enlace para recuperar contraseña.\n",
        "\n",
        "**Asignado a:** Federico Humberto Zaragoza Manuel"
      ]
    },
    {
      "cell_type": "markdown",
      "id": "85a7bc00",
      "metadata": {},
      "source": [
        "<!-- Imagen de la página de Login -->\n",
        "<img src=\"Screenshots/Interfaces/1.png\" width=\"100%\" alt=\"Screenshot de la página de login\">"
      ]
    },
    {
      "cell_type": "markdown",
      "id": "d5684d41",
      "metadata": {},
      "source": [
        "La página de login presenta una interfaz limpia y minimalista con un formulario centrado que incluye campos para correo electrónico y contraseña. El diseño utiliza Bootstrap para lograr un aspecto moderno con sombras suaves y bordes redondeados. Incluye validación visual de campos, opción para mostrar/ocultar contraseña, casilla de \"Recordarme\" y enlace para recuperación de contraseña. El logotipo de la aplicación se muestra en la parte superior, y en la parte inferior hay un botón para registrarse si el usuario no tiene cuenta."
      ]
    },
    {
      "cell_type": "markdown",
      "id": "c7b235c5",
      "metadata": {},
      "source": [
        "### 2. Página de Registro (register.html)\n",
        "\n",
        "**Descripción:** Formulario completo para el registro de nuevos usuarios. Incluye validación de campos obligatorios, validación de formato de correo electrónico, requisitos de contraseña y aceptación de términos y condiciones.\n",
        "\n",
        "**Asignado a:** Federico Humberto Zaragoza Manuel"
      ]
    },
    {
      "cell_type": "markdown",
      "id": "1718bb25",
      "metadata": {},
      "source": [
        "<!-- Imagen de la página de Registro -->\n",
        "<img src=\"Screenshots/Interfaces/2.png\" width=\"100%\" alt=\"Screenshot de la página de registro\">"
      ]
    },
    {
      "cell_type": "markdown",
      "id": "c1205ced",
      "metadata": {},
      "source": [
        "La página de registro muestra un formulario más extenso que el de login, organizado en secciones lógicas. Incluye campos para nombre completo, correo electrónico, contraseña y confirmación de contraseña, todos con sus respectivas validaciones visuales. Se muestran los requisitos de seguridad para la contraseña y un checkbox para aceptar los términos y condiciones con enlace a los mismos. El diseño mantiene la coherencia visual con la página de login, utilizando los mismos elementos de estilo como las tarjetas con sombras y los botones con iconos. También incluye un enlace para regresar a la página de login si el usuario ya tiene una cuenta."
      ]
    },
    {
      "cell_type": "markdown",
      "id": "ee5164c7",
      "metadata": {},
      "source": [
        "### 3. Dashboard (dashboard.html)\n",
        "\n",
        "**Descripción:** Panel principal que muestra todas las listas del usuario en formato de tarjetas. Incluye barra de navegación, buscador, acceso a notificaciones y perfil, filtrado por categorías, y opciones para crear nuevas listas.\n",
        "\n",
        "**Asignado a:** Luis Eduardo González Gloria"
      ]
    },
    {
      "cell_type": "markdown",
      "id": "653552c9",
      "metadata": {},
      "source": [
        "<!-- Imagen del Dashboard -->\n",
        "<img src=\"Screenshots/Interfaces/3.png\" width=\"100%\" alt=\"Screenshot del dashboard\">"
      ]
    },
    {
      "cell_type": "markdown",
      "id": "506ef411",
      "metadata": {},
      "source": [
        "El dashboard presenta una estructura de tres componentes principales: una barra de navegación superior con buscador y accesos rápidos, una barra lateral izquierda con filtros y categorías, y el área principal de contenido donde se muestran las listas en formato de tarjetas. Cada tarjeta de lista muestra el título, descripción breve, etiquetas asociadas, un indicador de progreso y la fecha de última actualización. El diseño es responsivo y se adapta a diferentes tamaños de pantalla, reorganizando las tarjetas según el espacio disponible. También se incluye una tarjeta especial para crear nuevas listas y un modal que se abre al hacer clic en ella."
      ]
    },
    {
      "cell_type": "markdown",
      "id": "dc5dd978",
      "metadata": {},
      "source": [
        "### 4. Detalle de Lista (list-detail.html)\n",
        "\n",
        "**Descripción:** Vista detallada de una lista específica que muestra todos sus ítems. Permite añadir, editar y eliminar ítems, marcarlos como completados, compartir la lista, visualizar progreso, y ver la actividad reciente.\n",
        "\n",
        "**Asignado a:** Diego Mercado Coello"
      ]
    },
    {
      "cell_type": "markdown",
      "id": "3bcd838b",
      "metadata": {},
      "source": [
        "<!-- Imagen de Detalle de Lista -->\n",
        "<img src=\"Screenshots/Interfaces/4.png\" width=\"100%\" alt=\"Screenshot de detalle de lista\">"
      ]
    },
    {
      "cell_type": "markdown",
      "id": "c0cb2bc8",
      "metadata": {},
      "source": [
        "La vista de detalle de lista muestra una cabecera con el título de la lista, descripción y una barra de progreso general. Debajo se encuentran controles para filtrar elementos por etiquetas o estado, y un botón para añadir nuevos ítems. El contenido principal es una tabla o lista de elementos donde cada fila representa un ítem con su título, etiquetas, estado y opciones para editar o eliminar. Los ítems pueden marcarse como completados mediante casillas de verificación. En el lateral derecho se muestra información adicional como la actividad reciente y opciones para compartir la lista. La vista incluye un modal para editar o añadir nuevos ítems con campos para título, descripción, etiquetas y estado."
      ]
    },
    {
      "cell_type": "markdown",
      "id": "01fe1f1e",
      "metadata": {},
      "source": [
        "### 5. Perfil de Usuario (profile.html)\n",
        "\n",
        "**Descripción:** Página que permite al usuario ver y editar su información personal. Incluye pestañas para información general, seguridad (cambio de contraseña) y registro de actividad reciente.\n",
        "\n",
        "**Asignado a:** Federico Humberto Zaragoza Manuel"
      ]
    },
    {
      "cell_type": "markdown",
      "id": "a927cc71",
      "metadata": {},
      "source": [
        "<!-- Imagen del Perfil de Usuario -->\n",
        "<img src=\"Screenshots/Interfaces/5.png\" width=\"100%\" alt=\"Screenshot del perfil de usuario\">"
      ]
    },
    {
      "cell_type": "markdown",
      "id": "eb98f7ad",
      "metadata": {},
      "source": [
        "La página de perfil de usuario está organizada en un sistema de pestañas para facilitar la navegación entre diferentes secciones. La pestaña principal muestra la información general del usuario como nombre, correo electrónico, foto de perfil y fecha de registro. Incluye un formulario para editar estos datos con validación en tiempo real. La segunda pestaña contiene opciones de seguridad, principalmente para cambio de contraseña con campos para la contraseña actual y la nueva. La tercera pestaña muestra un registro cronológico de la actividad reciente del usuario, incluyendo creación de listas, modificaciones y otros eventos relevantes. El diseño es limpio y consistente con el resto de la aplicación."
      ]
    },
    {
      "cell_type": "markdown",
      "id": "b26f828d",
      "metadata": {},
      "source": [
        "### 6. Administración de Usuarios (admin-users.html)\n",
        "\n",
        "**Descripción:** Panel de administración que permite gestionar todos los usuarios del sistema. Incluye funciones para buscar, filtrar, ver detalles, editar y eliminar usuarios. Solo accesible para administradores.\n",
        "\n",
        "**Asignado a:** Federico Humberto Zaragoza Manuel"
      ]
    },
    {
      "cell_type": "markdown",
      "id": "ae6ea69d",
      "metadata": {},
      "source": [
        "<!-- Imagen de Administración de Usuarios -->\n",
        "<img src=\"Screenshots/Interfaces/6.png\" width=\"100%\" alt=\"Screenshot de la administración de usuarios\">"
      ]
    },
    {
      "cell_type": "markdown",
      "id": "d2362637",
      "metadata": {},
      "source": [
        "El panel de administración de usuarios presenta una interfaz más técnica y funcional, con una tabla principal que lista todos los usuarios registrados. Cada fila contiene información básica como nombre, correo, rol, estado y fecha de registro. En la parte superior hay controles para buscar usuarios por diferentes criterios y aplicar filtros. Las acciones disponibles para cada usuario incluyen ver detalles, editar información, cambiar permisos y eliminar cuenta, accesibles mediante botones o un menú desplegable. La vista incluye también indicadores visuales para distinguir entre administradores y usuarios regulares, así como cuentas activas e inactivas. Se complementa con un modal para editar o añadir usuarios y una vista de detalles expandible."
      ]
    },
    {
      "cell_type": "markdown",
      "id": "0df50259",
      "metadata": {},
      "source": [
        "### 7. Gestor de Etiquetas (tags-manager.html)\n",
        "\n",
        "**Descripción:** Herramienta especializada para administrar todas las etiquetas del usuario. Permite crear, editar y eliminar etiquetas, personalizar colores, ver estadísticas de uso y tendencias.\n",
        "\n",
        "**Asignado a:** Diego Mercado Coello"
      ]
    },
    {
      "cell_type": "markdown",
      "id": "97b87ca4",
      "metadata": {},
      "source": [
        "<!-- Imagen del Gestor de Etiquetas -->\n",
        "<img src=\"Screenshots/Interfaces/7.png\" width=\"100%\" alt=\"Screenshot del gestor de etiquetas\">"
      ]
    },
    {
      "cell_type": "markdown",
      "id": "09654f49",
      "metadata": {},
      "source": [
        "El gestor de etiquetas ofrece dos vistas: cuadrícula y lista, seleccionables mediante botones en la parte superior. En la vista de cuadrícula, cada etiqueta se muestra como una tarjeta con su nombre, color personalizado y un contador de uso. En la vista de lista, se presenta una tabla más compacta con la misma información. Ambas vistas incluyen opciones para editar o eliminar etiquetas. La interfaz cuenta con un botón prominente para crear nuevas etiquetas, que abre un modal con campos para el nombre y un selector de color visual. También incluye una sección de estadísticas que muestra gráficos sobre el uso de etiquetas en diferentes listas y su tendencia a lo largo del tiempo. El diseño es colorido pero profesional, utilizando los colores de las propias etiquetas como elementos visuales clave."
      ]
    },
    {
      "cell_type": "markdown",
      "id": "a0cf42ce",
      "metadata": {},
      "source": [
        "### 8. Vistas Personalizadas (custom-views.html)\n",
        "\n",
        "**Descripción:** Interfaz que permite a los usuarios crear y gestionar vistas personalizadas de sus listas, con filtros, ordenamientos y campos visibles configurables.\n",
        "\n",
        "**Asignado a:** Diego Mercado Coello"
      ]
    },
    {
      "cell_type": "markdown",
      "id": "b441baf3",
      "metadata": {},
      "source": [
        "<!-- Imagen de Vistas Personalizadas -->\n",
        "<img src=\"Screenshots/Interfaces/8.png\" width=\"100%\" alt=\"Screenshot de vistas personalizadas\">"
      ]
    },
    {
      "cell_type": "markdown",
      "id": "9dfd8a4a",
      "metadata": {},
      "source": [
        "La página de vistas personalizadas presenta una interfaz dividida en dos secciones principales. A la izquierda se muestra un panel con las vistas guardadas por el usuario, organizadas por categorías. A la derecha se encuentra el área de configuración donde el usuario puede definir los parámetros de una vista personalizada. Esta área incluye controles para seleccionar la lista base, definir filtros (por etiquetas, estado, fecha), establecer criterios de ordenamiento, y seleccionar qué campos se mostrarán en la vista. La interfaz utiliza elementos interactivos como selectores múltiples, casillas de verificación y campos de texto con autocompletado. Un botón \"Vista previa\" permite al usuario visualizar cómo quedará la vista antes de guardarla. En la parte inferior hay opciones para guardar la vista actual, compartirla o exportarla en diferentes formatos."
      ]
    },
    {
      "cell_type": "markdown",
      "id": "05eae554",
      "metadata": {},
      "source": [
        "## Tabla de Ventanas Implementadas\n",
        "\n",
        "| Ventana/Componente         | Asignado a                        | Estado    |\n",
        "|----------------------------|-----------------------------------|-----------|\n",
        "| Página de Login            | Federico Humberto Zaragoza Manuel | Realizado |\n",
        "| Página de Registro         | Federico Humberto Zaragoza Manuel | Realizado |\n",
        "| Dashboard                  | Luis Eduardo González Gloria      | Realizado |\n",
        "| Detalle de Lista           | Diego Mercado Coello              | Realizado |\n",
        "| Perfil de Usuario          | Federico Humberto Zaragoza Manuel | Realizado |\n",
        "| Administración de Usuarios | Federico Humberto Zaragoza Manuel | Realizado |\n",
        "| Gestor de Etiquetas        | Diego Mercado Coello              | Realizado |\n",
        "| Vistas Personalizadas      | Diego Mercado Coello              | Realizado |\n",
        "| Editor de Item Modal       | Diego Mercado Coello              | Realizado |"
      ]
    },
    {
      "cell_type": "markdown",
      "id": "08fabe8b",
      "metadata": {},
      "source": [
        "## Reflexión sobre Cumplimiento de Requerimientos\n",
        "\n",
        "Consideramos que el prototipo de interfaz de usuario cumple satisfactoriamente con los requerimientos especificados en el documento inicial. Hemos implementado todas las vistas principales necesarias para el flujo de la aplicación:\n",
        "\n",
        "- ✅ Autenticación de usuarios (login/registro)\n",
        "- ✅ Visualización y gestión de listas\n",
        "- ✅ Visualización y gestión de ítems dentro de las listas\n",
        "- ✅ Gestión de etiquetas con personalización de colores\n",
        "- ✅ Visualización de estadísticas de uso\n",
        "- ✅ Funcionalidades de administración de usuarios\n",
        "- ✅ Interfaces responsivas adaptables a diferentes dispositivos\n",
        "- ✅ Soporte para modo oscuro\n",
        "\n",
        "En nuestra evaluación detallada del prototipo, consideramos que hemos cumplido satisfactoriamente con la mayoría de los requerimientos establecidos. Todas las pantallas principales han sido implementadas con sus respectivas funcionalidades visuales y de interacción básica.\n",
        "\n",
        "Sin embargo, identificamos algunas áreas que requieren desarrollo adicional en futuras iteraciones:\n",
        "\n",
        "1.  **Navegación completa entre páginas**: Si bien la estructura de navegación está definida y los enlaces están presentes, no todos los vínculos entre páginas están completamente funcionales. Especialmente desde el dashboard hacia otras secciones como perfil o configuración.\n",
        "\n",
        "2.  **Funcionalidad de arrastrar y soltar**: La organización de ítems mediante drag & drop está planteada en la interfaz pero no implementada completamente.\n",
        "\n",
        "3.  **Sistema de notificaciones en tiempo real**: Las notificaciones se muestran de manera estática, pero no se ha implementado la funcionalidad para actualizarse en tiempo real.\n",
        "\n",
        "4.  **Almacenamiento persistente de datos**: Al ser un prototipo UI, los datos son hardcodeados y no persisten entre sesiones o recarga de páginas.\n",
        "\n",
        "Estas limitaciones están alineadas con el alcance definido para esta fase del proyecto, ya que el enfoque principal era el diseño visual y la estructura de la interfaz de usuario, no la implementación completa de la funcionalidad backend o la persistencia de datos."
      ]
    },
    {
      "cell_type": "markdown",
      "id": "9314887e",
      "metadata": {},
      "source": [
        "## Distribución del Trabajo\n",
        "\n",
        "El trabajo se distribuyó de manera equilibrada entre los miembros del equipo, asignando responsabilidades según las fortalezas y experiencia de cada integrante:\n",
        "\n",
        "-   **Federico Humberto Zaragoza Manuel**: Se encargó de las interfaces de usuario relacionadas con la autenticación y gestión de usuarios, incluyendo el desarrollo del sistema de administración.\n",
        "\n",
        "-   **Luis Eduardo González Gloria**: Desarrolló la interfaz principal del dashboard y los componentes relacionados con la visualización y gestión de listas.\n",
        "\n",
        "-   **Diego Mercado Coello**: Implementó la vista detallada de listas, el gestor de etiquetas y las funcionalidades relacionadas con los ítems individuales.\n",
        "\n",
        "La distribución del trabajo resultó equitativa y eficiente, aprovechando las habilidades específicas de cada miembro del equipo. Federico se enfocó en las interfaces relacionadas con la administración y la autenticación, Luis Eduardo en la interfaz principal del sistema, y Diego en las funcionalidades específicas de gestión de contenido.\n",
        "\n",
        "Entre los desafíos más significativos que enfrentamos estuvo la coordinación para mantener una coherencia visual y de experiencia de usuario a través de todas las páginas. Esto lo resolvimos estableciendo desde el inicio guías de estilo comunes y utilizando componentes de Bootstrap de manera consistente.\n",
        "\n",
        "La comunicación regular a través de reuniones semanales y el uso de herramientas de control de versiones nos permitió integrar el trabajo de manera fluida. Para futuras iteraciones, consideramos que sería beneficioso:\n",
        "\n",
        "1.  Establecer un sistema de componentes reutilizables más estructurado\n",
        "2.  Implementar pruebas de usabilidad tempranas con usuarios potenciales\n",
        "3.  Mejorar la documentación de componentes y patrones de diseño utilizados\n",
        "\n",
        "La experiencia de desarrollo colaborativo fue positiva y sentó las bases para las siguientes fases del proyecto, donde nos enfocaremos en la implementación de la funcionalidad completa y la integración con el backend.\n",
        "\n",
        "---"
      ]
    }
  ],
  "metadata": {
    "kernelspec": {
      "display_name": "Python 3",
      "language": "python",
      "name": "python3"
    },
    "language_info": {
      "codemirror_mode": {
        "name": "ipython",
        "version": 3
      },
      "file_extension": ".py",
      "mimetype": "text/x-python",
      "name": "python",
      "nbconvert_exporter": "python",
      "pygments_lexer": "ipython3",
      "version": "3.13.1"
    }
  },
  "nbformat": 4,
  "nbformat_minor": 5
}
