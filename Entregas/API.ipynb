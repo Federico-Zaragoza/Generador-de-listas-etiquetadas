{
  "cells": [
    {
      "cell_type": "markdown",
      "metadata": {},
      "source": [
        "# Informe API REST - Generador de Listas Etiquetadas"
      ]
    },
    {
      "cell_type": "markdown",
      "metadata": {},
      "source": [
        "## Tabla de Endpoints de la API\n",
        "\n",
        "A continuación se presenta la tabla actualizada de los endpoints implementados en la API REST."
      ]
    },
    {
      "cell_type": "markdown",
      "metadata": {},
      "source": [
        "### Autenticación (`/api/auth`)\n",
        "| Método | Ruta                      | Descripción                          | Acceso   | Parámetros (Body/Params/Query)                                       | Respuesta Exitosa (Ejemplo)                        | Errores Comunes              |\n",
        "|--------|---------------------------|--------------------------------------|----------|----------------------------------------------------------------------|----------------------------------------------------|------------------------------|\n",
        "| POST   | /register                 | Registrar nuevo usuario              | Público  | Body: { `username`, `email`, `password`, `fullName` (nombre), `birthDate` (fecha_nacimiento), `role` (opcional) } | `{ success:true, user:{...}, token }`             | 400 (campos faltantes, validación, user ya existe), 500 |\n",
        "| POST   | /login                    | Iniciar sesión                       | Público  | Body: { `email`, `password` }                                        | `{ success:true, user:{...}, token }`             | 401 (credenciales inválidas), 500 |\n",
        "| GET    | /profile                  | Obtener perfil de usuario actual    | Privado  | -                                                                    | `{ success:true, user:{...} }`                     | 401, 500                     |\n",
        "| PUT    | /profile                  | Actualizar perfil de usuario actual | Privado  | Body: { `nombre`, `fecha_nacimiento`, `email` (opcional) }           | `{ success:true, user:{...} }`                     | 400 (validación, email en uso), 401, 500 |\n",
        "| PUT    | /updatepassword           | Cambiar contraseña (actual)        | Privado  | Body: { `currentPassword`, `newPassword` }                           | `{ success:true, message }`                        | 401 (contraseña actual incorrecta), 400 (faltan datos), 500 |\n"
      ]
    },
    {
      "cell_type": "markdown",
      "metadata": {},
      "source": [
        "### Usuarios (`/api/users`)\n",
        "| Método | Ruta                          | Descripción                          | Acceso        | Parámetros (Body/Params/Query)                               | Respuesta Exitosa (Ejemplo)                                 | Errores Comunes              |\n",
        "|--------|-------------------------------|--------------------------------------|---------------|--------------------------------------------------------------|-------------------------------------------------------------|------------------------------|\n",
        "| GET    | /                             | Listar usuarios (paginado)           | Privado/Admin | Query: `page`, `limit`                                       | `{ success:true, count, pagination:{...}, data:[...] }`     | 401, 403, 500                |\n",
        "| GET    | /stats                        | Estadísticas de usuarios             | Privado/Admin | -                                                            | `{ success:true, stats:{...} }`                             | 401, 403, 500                |\n",
        "| GET    | /:id                          | Obtener usuario por ID              | Privado/Admin | Params: `id`                                                 | `{ success:true, user:{...} }`                              | 401, 403, 404, 500           |\n",
        "| PUT    | /:id                          | Actualizar un usuario (admin)        | Privado/Admin | Params: `id`, Body: { `nombre`, `fecha_nacimiento` }         | `{ success:true, user:{...} }`                              | 400, 401, 403, 404, 500      |\n",
        "| PUT    | /:id/role                     | Cambiar rol de usuario               | Privado/Admin | Params: `id`, Body: { `role` }                               | `{ success:true, user:{...} }`                              | 400, 401, 403, 404, 500      |\n",
        "| DELETE | /:id                          | Eliminar usuario                     | Privado/Admin | Params: `id`                                                 | `{ success:true, message }`                                 | 401, 403, 404, 500           |\n",
        "| PUT    | /me/lists/favorite/:listId    | Toggle lista favorita (actual)      | Privado       | Params: `listId`                                             | `{ success:true, message, isFavorite, user:{...} }`        | 401, 403, 404, 500           |\n",
        "| PUT    | /me/lists/archive/:listId     | Toggle lista archivada (actual)     | Privado       | Params: `listId`                                             | `{ success:true, message, isArchived, user:{...} }`        | 401, 403, 404, 500           |\n"
      ]
    },
    {
      "cell_type": "markdown",
      "metadata": {},
      "source": [
        "### Listas (`/api/listas`)\n",
        "| Método | Ruta                              | Descripción                               | Acceso   | Parámetros (Body/Params/Query)                                       | Respuesta Exitosa (Ejemplo)                                      | Errores Comunes              |\n",
        "|--------|-----------------------------------|-------------------------------------------|----------|----------------------------------------------------------------------|------------------------------------------------------------------|------------------------------|\n",
        "| GET    | /                                 | Listar listas del usuario (paginado)      | Privado  | Query: `page`, `limit`                                               | `{ success:true, count, pagination:{...}, data:[...] }`            | 401, 500                     |\n",
        "| POST   | /                                 | Crear nueva lista                         | Privado  | Body: { `title`, `description` (opc), `camposEspaciales` (opc) }     | `{ success:true, message, lista:{...} }`                         | 400, 401, 500                |\n",
        "| GET    | /:id                              | Obtener lista específica con sus ítems   | Privado  | Params: `id`                                                         | `{ success:true, lista:{...}, items:[...] }`                      | 401, 403, 404, 500           |\n",
        "| PUT    | /:id                              | Actualizar lista                          | Privado  | Params: `id`, Body: { `title`, `description`, `camposEspaciales` } | `{ success:true, message, lista:{...} }`                         | 400, 401, 403, 404, 500      |\n",
        "| DELETE | /:id                              | Eliminar lista                            | Privado  | Params: `id`                                                         | `{ success:true, message }`                                      | 401, 403, 404, 500           |\n",
        "| POST   | /:listId/share                    | Compartir lista con colaborador           | Privado  | Params: `listId`, Body: { `emailOrUsername`, `permiso` }             | `{ success:true, lista:{...} }`                                  | 400, 401, 403, 404, 500      |\n",
        "| DELETE | /:listId/share/:collaboratorUserId | Quitar colaborador de una lista          | Privado  | Params: `listId`, `collaboratorUserId`                               | `{ success:true, lista:{...} }`                                  | 401, 403, 404, 500           |\n"
      ]
    },
    {
      "cell_type": "markdown",
      "metadata": {},
      "source": [
        "### Ítems (`/api/items`)\n",
        "| Método | Ruta                | Descripción                           | Acceso   | Parámetros (Body/Params/Query)                                                                | Respuesta Exitosa (Ejemplo)                                   | Errores Comunes              |\n",
        "|--------|---------------------|---------------------------------------|----------|-----------------------------------------------------------------------------------------------|---------------------------------------------------------------|------------------------------|\n",
        "| GET    | /filtrar            | Filtrar ítems por estado, etiquetas   | Privado  | Query: `listId` (req), `estado` (opc), `etiquetas` (opc, CSV), `etiqueta_logica` (opc), `sortField`, `sortDir`, `page`, `limit` | `{ success:true, count, pagination:{...}, data:[...] }` | 400, 401, 403, 500           |\n",
        "| POST   | /                   | Crear nuevo Ítem                      | Privado  | Body: { `listId`, `title`, `description`, `estado`, `etiquetas` (array IDs), `imagenUrl`, `valoresCamposEspaciales` } | `{ success:true, message, item:{...} }`                     | 400, 401, 403, 500           |\n",
        "| GET    | /:id                | Obtener Ítem específico              | Privado  | Params: `id`                                                                                  | `{ success:true, item:{...} }`                                | 401, 403, 404, 500           |\n",
        "| PUT    | /:id                | Actualizar Ítem                       | Privado  | Params: `id`, Body: { (campos a actualizar) }                                                 | `{ success:true, message, item:{...} }`                     | 400, 401, 403, 404, 500      |\n",
        "| DELETE | /:id                | Eliminar Ítem                         | Privado  | Params: `id`                                                                                  | `{ success:true, message }`                                   | 401, 403, 404, 500           |\n"
      ]
    },
    {
      "cell_type": "markdown",
      "metadata": {},
      "source": [
        "### Etiquetas (`/api/etiquetas`)\n",
        "| Método | Ruta            | Descripción                             | Acceso   | Parámetros (Body/Params/Query)      | Respuesta Exitosa (Ejemplo)                                  | Errores Comunes              |\n",
        "|--------|-----------------|-----------------------------------------|----------|-------------------------------------|--------------------------------------------------------------|------------------------------|\n",
        "| GET    | /               | Listar etiquetas (paginado)             | Privado  | Query: `page`, `limit`              | `{ success:true, count, pagination:{...}, data:[...] }`      | 401, 500                     |\n",
        "| POST   | /               | Crear nueva etiqueta                    | Privado  | Body: { `nombre`, `color` (opc) }   | `{ success:true, message, etiqueta:{...} }`                  | 400 (duplicado), 401, 500    |\n",
        "| PUT    | /:id            | Actualizar etiqueta                     | Privado  | Params: `id`, Body: { `nombre`, `color` } | `{ success:true, message, etiqueta:{...} }`                  | 400, 401, 403, 404, 500      |\n",
        "| DELETE | /:id            | Eliminar etiqueta                       | Privado  | Params: `id`                        | `{ success:true, message }`                                  | 401, 403, 404, 500           |\n",
        "| GET    | /estadisticas   | Estadísticas de uso de etiquetas (mock) | Privado  | -                                   | `{ success:true, estadisticas:[...] }`                       | 401, 500                     |\n"
      ]
    },
    {
      "cell_type": "markdown",
      "metadata": {},
      "source": [
        "### Vistas Personalizadas (`/api/vistas`)\n",
        "| Método | Ruta   | Descripción                           | Acceso   | Parámetros (Body/Params/Query)               | Respuesta Exitosa (Ejemplo)                                  | Errores Comunes              |\n",
        "|--------|--------|---------------------------------------|----------|----------------------------------------------|--------------------------------------------------------------|------------------------------|\n",
        "| GET    | /      | Listar vistas del usuario (paginado)  | Privado  | Query: `page`, `limit`                       | `{ success:true, count, pagination:{...}, data:[...] }`      | 401, 500                     |\n",
        "| POST   | /      | Crear nueva vista                     | Privado  | Body: { `nombre`, `filtros`, `ordenamientos` } | `{ success:true, message, vista:{...} }`                     | 400 (duplicado), 401, 500    |\n",
        "| GET    | /:id   | Obtener vista específica              | Privado  | Params: `id`                                 | `{ success:true, vista:{...} }`                                | 401, 403, 404, 500           |\n",
        "| PUT    | /:id   | Actualizar vista                      | Privado  | Params: `id`, Body: { (campos a actualizar) }  | `{ success:true, message, vista:{...} }`                     | 400, 401, 403, 404, 500      |\n",
        "| DELETE | /:id   | Eliminar vista                        | Privado  | Params: `id`                                 | `{ success:true, message }`                                  | 401, 403, 404, 500           |\n"
      ]
    },
    {
      "cell_type": "markdown",
      "metadata": {},
      "source": [
        "## Enlace al Video de Demostración\n",
        "\n",
        "A continuación, se presenta el video de demostración del flujo principal de la API REST:\n",
        "\n",
        "[Ver Video de Demostración de la API](https://iteso01-my.sharepoint.com/:v:/g/personal/diego_mercadoc_iteso_mx/ESUwkdjmV3pImO-zpm1IziQBooaSbmrs-tkWWL4V_0AE9g?e=BVpUs9)\n",
        "\n",
        "https://iteso01-my.sharepoint.com/:v:/g/personal/diego_mercadoc_iteso_mx/ESUwkdjmV3pImO-zpm1IziQBooaSbmrs-tkWWL4V_0AE9g?e=BVpUs9"
      ]
    },
    {
      "cell_type": "markdown",
      "metadata": {},
      "source": [
        "## Funcionalidades Pendientes\n",
        "\n",
        "Aunque la API cubre la mayoría de los requerimientos CRUD y de autenticación, algunas funcionalidades avanzadas o mejoras de UI/UX aún están pendientes:\n",
        "\n",
        "- **Mejoras UI/UX:**\n",
        "  - Implementación de Drag & Drop (y quizás listas).\n",
        "  - Pulido visual general de la interfaz.\n",
        "\n",
        "- **Despliegue:**\n",
        "  - Configuración de dominio personalizado."
      ]
    }
  ],
  "metadata": {
    "kernelspec": {
      "display_name": "Python 3 (ipykernel)",
      "language": "python",
      "name": "python3"
    },
    "language_info": {
      "codemirror_mode": {
        "name": "ipython",
        "version": 3
      },
      "file_extension": ".py",
      "mimetype": "text/x-python",
      "name": "python",
      "nbconvert_exporter": "python",
      "pygments_lexer": "ipython3",
      "version": "3.x.x"
    }
  },
  "nbformat": 4,
  "nbformat_minor": 5
}
